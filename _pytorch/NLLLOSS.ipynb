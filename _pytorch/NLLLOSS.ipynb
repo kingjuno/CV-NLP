{
 "cells": [
  {
   "cell_type": "markdown",
   "metadata": {},
   "source": [
    "# NLLLOSS\n",
    "```python3\n",
    "torch.nn.NLLLoss(weight=None, size_average=None, ignore_index=- 100, reduce=None, reduction='mean')\n",
    "```\n",
    "The negative log likelihood loss. It is useful to train a classification problem with `C` classes. \n",
    "The input given through a forward call is expected to contain log-probabilities of each class. Input has to be a tensorof size either (minibatch, C) or (minibatch, C, d1, d2, ..., dK) with K >= 1 for the K-dimensional case.The latter is useful for higher dimension inputs such as computing NLL loss per-pixel for 2D images.\n",
    "\n",
    "The unreduced loss can be described as:\n",
    "$l(x,y) = L = {l_1,\\dots,l_N}^T , l_n = - w_{y_n} x_{n,y_n}, w_c = weight[c].1 {c \\neq y_n} $\n",
    "where $x$ is the input, $y$ is the target and $w_{y_n}$ is weight, and N is the batch size. If `reduction` is not `none` (default `mean`) then\n",
    "\n",
    "<!-- $l(x,y) = = $ -->\n",
    "\\begin{cases}\n",
    "  \\sum_{n=1}^N \\frac{1}{\\sum_{n=1}^N w_{y_n}} l_n, & \\text{if } reduction = mean,\\\\\n",
    "  \\sum_{n=1}^N l_n, & \\text{if } reduction = sum.\n",
    "\\end{cases}\n"
   ]
  },
  {
   "cell_type": "code",
   "execution_count": 1,
   "metadata": {},
   "outputs": [],
   "source": [
    "import torch.nn as nn\n",
    "import torch\n",
    "\n",
    "\n",
    "m = nn.LogSoftmax(dim=1)\n",
    "loss = nn.NLLLoss()\n",
    "\n",
    "#input is of size (NXC) where C is the number of classes\n",
    "# here 3,5\n",
    "input = torch.randn(3, 5, requires_grad=True)\n",
    "#element should have the value in [0,C)\n",
    "target = torch.tensor([1, 0, 4])\n",
    "out = loss(m(input), target)\n",
    "out.backward()"
   ]
  }
 ],
 "metadata": {
  "interpreter": {
   "hash": "916dbcbb3f70747c44a77c7bcd40155683ae19c65e1c03b4aa3499c5328201f1"
  },
  "kernelspec": {
   "display_name": "Python 3.8.10 64-bit",
   "language": "python",
   "name": "python3"
  },
  "language_info": {
   "codemirror_mode": {
    "name": "ipython",
    "version": 3
   },
   "file_extension": ".py",
   "mimetype": "text/x-python",
   "name": "python",
   "nbconvert_exporter": "python",
   "pygments_lexer": "ipython3",
   "version": "3.8.10"
  },
  "orig_nbformat": 4
 },
 "nbformat": 4,
 "nbformat_minor": 2
}
