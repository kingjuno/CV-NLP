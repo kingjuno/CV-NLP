{
 "cells": [
  {
   "cell_type": "markdown",
   "metadata": {},
   "source": [
    "# Word Embeddings: Encoding Lexical Semantics\n",
    "Word embeddings are dense vectors of real numbers, one per word in a vocabulary. In NLP, it is almost always the case that your features are words. We use one-hot encoding to represent words, where the inputs are $|V|$-dimensional, where $V$ is the vocabulary.<br>\n",
    " ie. we represent word w by\n",
    "$\\begin{bmatrix} 0, 0,\\cdots, 1,\\cdots,0, 0 \\end{bmatrix}$\n",
    "where the 1 is in a location unique to w. Any other word will have a 1 in some other location, and a 0 in all other locations.\n",
    "\n",
    "There is an enormous drawback to this representation, besides just how huge it is. It basically treats words as independent entities with no relation to each other.<br>\n",
    "\n",
    "Suppose we are building a language model. Suppose we have sentences like\n",
    "- The mathematician ran to the store.\n",
    "- The physicist ran to the store.\n",
    "- The mathematican solved the open problem.\n",
    "\n",
    "Our langauge might be ok with `The physicist solved the open problem.` but it would be better if we could use he following two facts:\n",
    "- We have seen mathematician and physicist in the same role in a sentence. Somehow they have a semantic relation.\n",
    "- We have seen mathematician in the same role in this new unseen sentence as we are now seeing physicist.<br>\n",
    "and then infer that physicist is actually a good fit for the sentence. This is what we mean by a notion of similarity; we mean semantic similarity, not simply having orthogonal representations.It is a technique to combat the sparsity of linguistic data, by connecting the dots between what we have seen and what we haven't.\n",
    "\n",
    "## Getting Dense Word Embeddings\n",
    "If each attribute is a dimension, then we might give each word a vector, like this:<br>\n",
    "$q_{mathematician} = [\\overbrace{2.3}_{\\text{can run}} \\overbrace{9.4}_{\\text{likes coffee}}, \\overbrace{-5.5}_{\\text{majored in physics}},\\cdots]$<br>\n",
    "$q_{physicist} = [\\overbrace{2.5}_{\\text{can run}} \\overbrace{9.1}_{\\text{likes coffee}}, \\overbrace{6.4}_{\\text{majored in physics}},\\cdots]$\n",
    "\n",
    "Then we can get a measure of similarity between thee words by doing:\n",
    "$Similarity(mathematician, physicist) = q_{mathematician}.q_{physicist}$\n",
    "<br>\n",
    "Although it is more common to normalize by lengths:\n",
    "$Similarity(mathematician, physicist) = \\frac{q_{mathematician}.q_{physicist}}{||q_{mathematician}|| ||q_{physicist}||} = cos(\\phi)$\n",
    "where $\\phi$ is the angle between the two vectors. That way, extremely similar words will have similarity of 1, and very dissimilar words will have similarity of -1.\n",
    "We can think of sparse one-hot vectors as a special case of these new vectors defined here, where each word has similarity 0, and we gave each word some unique semantic attribut. These new vectors are dense, which is to say their entries are non-zero.<br>\n",
    "But these new vectors are a big pain: you could think of thousands of different semantic attributes that might be relevant to determining similarity, and how on earth would you set the values of the different attributes? Central to the idea of deep learning is that the neural network learns representations of the features, rather than requiring the programmer to design them herself. So why not just let the word embeddings be parameters in our model, and then be updated during training? This is exactly what we will do. We will have some latent semantic attributes that the network can, in principle, learn. Note that the word embeddings will probably not be interpretable. That is, although with our hand-crafted vectors above we can see that mathematicians and physicists are similar in that they both like coffee, if we allow a neural network to learn the embeddings and see that both mathematicians and physicists have a large value in the second dimension, it is not clear what that means. They are similar in some latent semantic dimension, but this probably has no interpretation to us.<br>\n",
    "In summary, word embeddings are a representation of the *semantics* of a word, efficiently encoding semantic information that might be relevant to the task at hand.\n",
    "\n",
    "# Word embeddings in Pytorch\n",
    "Similar to how we defined a unique index for each word when making one-hot vectors, we also need to define an index for each word when using embeddings. These will be keys into a lookup table. That is, embeddings are stored as a |V| \\times D∣V∣×D matrix, where DD is the dimensionality of the embeddings, such that the word assigned index ii has its embedding stored in the ii’th row of the matrix. In all of my code, the mapping from words to indices is a dictionary named word_to_ix.\n"
   ]
  },
  {
   "cell_type": "code",
   "execution_count": 199,
   "metadata": {},
   "outputs": [
    {
     "data": {
      "text/plain": [
       "<torch._C.Generator at 0x7fd69c1c5670>"
      ]
     },
     "execution_count": 199,
     "metadata": {},
     "output_type": "execute_result"
    }
   ],
   "source": [
    "import torch\n",
    "import torch.nn as nn\n",
    "import torch.nn.functional as F\n",
    "import torch.optim as optim\n",
    "\n",
    "torch.manual_seed(1)"
   ]
  },
  {
   "cell_type": "code",
   "execution_count": 200,
   "metadata": {},
   "outputs": [
    {
     "name": "stdout",
     "output_type": "stream",
     "text": [
      "tensor([[ 0.6614,  0.2669,  0.0617,  0.6213, -0.4519]],\n",
      "       grad_fn=<EmbeddingBackward0>)\n",
      "tensor([0])\n"
     ]
    }
   ],
   "source": [
    "word_to_ix = {\"hello\": 0, \"world\": 1}\n",
    "embeds = nn.Embedding(2, 5)\n",
    "lookup_tensor = torch.tensor([word_to_ix[\"hello\"]], dtype = torch.long)\n",
    "hello_embed = embeds(lookup_tensor)\n",
    "\n",
    "print(hello_embed, lookup_tensor, sep='\\n')"
   ]
  },
  {
   "cell_type": "markdown",
   "metadata": {},
   "source": [
    "# An Example: N-Gram Language Modeling\n",
    "In an n-gram language model, given a sequence of words w, we want to compute\n",
    "$P(w_i | w_{i-1}, w_{i-2},\\cdots ,w_{i-n+1})$\n",
    "Where $w_{i}$ is the ith word of the sequence.\n",
    "We will compute the loss function on some training examples and update the parameters with backpropagation."
   ]
  },
  {
   "cell_type": "code",
   "execution_count": 201,
   "metadata": {},
   "outputs": [],
   "source": [
    "CONTEXT_SIZE = 3\n",
    "EMBEDDING_DIM = 10\n",
    "\n",
    "test_sentence = \"\"\"When forty winters shall besiege thy brow,\n",
    "And dig deep trenches in thy beauty's field,\n",
    "Thy youth's proud livery so gazed on now,\n",
    "Will be a totter'd weed of small worth held:\n",
    "Then being asked, where all thy beauty lies,\n",
    "Where all the treasure of thy lusty days;\n",
    "To say, within thine own deep sunken eyes,\n",
    "Were an all-eating shame, and thriftless praise.\n",
    "How much more praise deserv'd thy beauty's use,\n",
    "If thou couldst answer 'This fair child of mine\n",
    "Shall sum my count, and make my old excuse,'\n",
    "Proving his beauty by succession thine!\n",
    "This were to be new made when thou art old,\n",
    "And see thy blood warm when thou feel'st it cold.\"\"\".split()\n",
    "\n",
    "# we should tokenize the input, but we will ignore that for now\n",
    "# build a list of tuples\n",
    "# Each tuple is ([ word_i-CONTEXT_SIZE, ..., word_i-1 ], target word)\n",
    "\n",
    "ngrams = [\n",
    "    (\n",
    "        [test_sentence[i-j-1] for j in range(CONTEXT_SIZE)],\n",
    "        test_sentence[i]\n",
    "    ) for i in range(CONTEXT_SIZE, len(test_sentence))\n",
    "]\n",
    "\n",
    "vocab = set(test_sentence)\n",
    "word_to_ix = {word : i for i, word in enumerate(vocab)}"
   ]
  },
  {
   "cell_type": "code",
   "execution_count": 202,
   "metadata": {},
   "outputs": [],
   "source": [
    "class NGramLanguageModeler(nn.Module):\n",
    "    def __init__(self, vocab_size, embedding_dim, context_size) -> None:\n",
    "        super(NGramLanguageModeler, self).__init__()\n",
    "        self.embeddings = nn.Embedding(vocab_size, embedding_dim)\n",
    "        self.linear1 = nn.Linear(context_size*embedding_dim, 128)\n",
    "        self.linear2 = nn.Linear(128, vocab_size)\n",
    "\n",
    "    def forward(self, inputs):\n",
    "        embeds = self.embeddings(inputs).view((1, -1))\n",
    "        out = F.relu(self.linear1(embeds))\n",
    "        out = self.linear2(out)\n",
    "        log_probs = F.log_softmax(out, dim=1)\n",
    "        return log_probs"
   ]
  },
  {
   "cell_type": "code",
   "execution_count": 203,
   "metadata": {},
   "outputs": [
    {
     "name": "stdout",
     "output_type": "stream",
     "text": [
      "[513.1639378070831, 510.34439420700073, 507.5419828891754, 504.7551739215851, 501.98272228240967, 499.2240331172943, 496.4798057079315, 493.7489833831787, 491.0306079387665, 488.3209731578827]\n",
      "tensor([-0.8247, -0.4093, -2.3699, -0.0218, -0.3094, -1.0465, -0.9334,  0.2457,\n",
      "         0.1783,  0.7626], grad_fn=<SelectBackward0>)\n"
     ]
    }
   ],
   "source": [
    "losses = []\n",
    "loss_function = nn.NLLLoss()\n",
    "model = NGramLanguageModeler(len(vocab), EMBEDDING_DIM, CONTEXT_SIZE)\n",
    "optimizer = optim.SGD(model.parameters(), lr=0.001)\n",
    "\n",
    "for epoch in range(10):\n",
    "    total_loss = 0\n",
    "    for context, target in ngrams:\n",
    "\n",
    "        # Step 1. Prepare the inputs to be passed to the model (i.e, turn the words\n",
    "        # into integer indices and wrap them in tensors)\n",
    "        context_idxs = torch.tensor([word_to_ix[w] for w in context], dtype=torch.long)\n",
    "\n",
    "        # Step 2. Recall that torch *accumulates* gradients. Before passing in a\n",
    "        # new instance, you need to zero out the gradients from the old\n",
    "        # instance\n",
    "        model.zero_grad()\n",
    "\n",
    "        # Step 3. Run the forward pass, getting log probabilities over next\n",
    "        # words\n",
    "        log_probs = model(context_idxs)\n",
    "\n",
    "        # Step 4. Compute your loss function. (Again, Torch wants the target\n",
    "        # word wrapped in a tensor)\n",
    "        loss = loss_function(log_probs, torch.tensor([word_to_ix[target]], dtype=torch.long))\n",
    "\n",
    "        # Step 5. Do the backward pass and update the gradient\n",
    "        loss.backward()\n",
    "        optimizer.step()\n",
    "\n",
    "        # Get the Python number from a 1-element Tensor by calling tensor.item()\n",
    "        total_loss += loss.item()\n",
    "    losses.append(total_loss)\n",
    "print(losses)  # The loss decreased every iteration over the training data!\n",
    "\n",
    "# To get the embedding of a particular word, e.g. \"beauty\"\n",
    "print(model.embeddings.weight[word_to_ix[\"beauty\"]])"
   ]
  },
  {
   "cell_type": "markdown",
   "metadata": {},
   "source": [
    "# Computing Word Embeddings : Continuous Bag-of-Words\n",
    "The Continuous Bag-of-words model (CBOW) is frequently used in NLP deep learning. It is a model that tries to predict words given a context of words before and a few words after the target word. This is distinct from language modelling, since CBOW is not sequential and doesnt have to be probabalistic.Typically, CBOW is used to quickly train word embeddings, and these embeddings are used to initial the embeddings of some more complicated model. Usually this is referred to as pretraining embeddings. It almost always helps performance a couple of percent.\n",
    "\n",
    "The CBOW model is as follows:<br>\n",
    "Given a target word $w_i$ and an N context window on each side, $w_{i-1},\\cdots, w_{i-N}$ and $w_{i+1},\\cdots, w_{i+N}$, referring to all context words collectively as $C$, CBOW tries to minimize\n",
    "$-logp(w_i|C) = -logSoftmax(A(\\sum_{w \\epsilon C}q_w)+b)$\n",
    "where $q_w$ is the embedding of word $w$."
   ]
  },
  {
   "cell_type": "code",
   "execution_count": 208,
   "metadata": {},
   "outputs": [
    {
     "name": "stdout",
     "output_type": "stream",
     "text": [
      "[(['We', 'are', 'to', 'study'], 'about'), (['are', 'about', 'study', 'the'], 'to'), (['about', 'to', 'the', 'idea'], 'study'), (['to', 'study', 'idea', 'of'], 'the'), (['study', 'the', 'of', 'a'], 'idea')]\n"
     ]
    },
    {
     "data": {
      "text/plain": [
       "tensor([36,  8, 13, 22])"
      ]
     },
     "execution_count": 208,
     "metadata": {},
     "output_type": "execute_result"
    }
   ],
   "source": [
    "CONTEXT_SIZE = 2  # 2 words to the left, 2 to the right\n",
    "raw_text = \"\"\"We are about to study the idea of a computational process.\n",
    "Computational processes are abstract beings that inhabit computers.\n",
    "As they evolve, processes manipulate other abstract things called data.\n",
    "The evolution of a process is directed by a pattern of rules\n",
    "called a program. People create programs to direct processes. In effect,\n",
    "we conjure the spirits of the computer with our spells.\"\"\".split()\n",
    "\n",
    "# By deriving a set from `raw_text`, we deduplicate the array\n",
    "vocab = set(raw_text)\n",
    "vocab_size = len(vocab)\n",
    "\n",
    "word_to_ix = {word: i for i, word in enumerate(vocab)}\n",
    "ix_to_word = {i: word for i, word in enumerate(vocab)}\n",
    "data = []\n",
    "for i in range(CONTEXT_SIZE, len(raw_text) - CONTEXT_SIZE):\n",
    "    context = (\n",
    "         [raw_text[i - 2], raw_text[i - 1],\n",
    "               raw_text[i + 1], raw_text[i + 2]]\n",
    "    )\n",
    "    target = raw_text[i]\n",
    "    data.append((context, target))\n",
    "print(data[:5])\n",
    "\n",
    "\n",
    "class CBOW(nn.Module):\n",
    "\n",
    "    def __init__(\n",
    "        self,vocab_size, embedding_dim, context_size = CONTEXT_SIZE):\n",
    "        super(CBOW, self).__init__()\n",
    "        self.embeddings = nn.Embedding(vocab_size, embedding_dim)\n",
    "        self.linear = nn.Linear(embedding_dim, 128)\n",
    "        self.out = nn.Linear(128, vocab_size)\n",
    "\n",
    "    def forward(self, inputs):\n",
    "        x = torch.sum(self.embeddings(inputs), dim=0).view(1,-1)\n",
    "        x = F.relu(self.linear(x))\n",
    "        x = self.out(x)\n",
    "        x = F.log_softmax(x, dim=1)\n",
    "        return x\n",
    "        \n",
    "# Create your model and train. Here are some functions to help you make\n",
    "# the data ready for use by your module.\n",
    "\n",
    "\n",
    "def make_context_vector(context, word_to_ix):\n",
    "    idxs = [word_to_ix[w] for w in context]\n",
    "    return torch.tensor(idxs, dtype=torch.long)\n",
    "\n",
    "\n",
    "make_context_vector(data[0][0], word_to_ix)"
   ]
  },
  {
   "cell_type": "code",
   "execution_count": 209,
   "metadata": {},
   "outputs": [
    {
     "name": "stdout",
     "output_type": "stream",
     "text": [
      "[232.7938220500946, 225.48803400993347, 218.46842622756958, 211.68482422828674, 205.0910131931305, 198.64530396461487, 192.34060168266296, 186.14204287528992, 180.03821539878845, 174.03275001049042, 168.10800909996033, 162.25235557556152, 156.47664922475815, 150.75634771585464, 145.10827374458313, 139.5689457654953, 134.09585565328598, 128.7139936685562, 123.42626509070396, 118.23131731152534, 113.10155031085014, 108.08978912234306, 103.19601333141327, 98.42329469323158, 93.77638283371925, 89.27157053351402, 84.90581057965755, 80.69897428154945, 76.64146822690964, 72.71896083652973, 68.97243192791939, 65.37726899981499, 61.936557561159134, 58.657966271042824, 55.54424685239792, 52.57526287436485, 49.77652046829462, 47.10767520964146, 44.600095234811306, 42.23728417605162, 40.01233260333538, 37.91750793159008, 35.9555834159255, 34.110297821462154, 32.38407306373119, 30.769475392997265, 29.25427435338497, 27.843179754912853, 26.51744243502617, 25.281926542520523, 24.122259888798, 23.045581493526697, 22.027941673994064, 21.085529174655676, 20.199316669255495, 19.367392018437386, 18.58693389594555, 17.859597984701395, 17.17079269886017, 16.52618085592985, 15.919698111712933, 15.345864586532116, 14.809120070189238, 14.298463352024555, 13.81905185058713, 13.36456162109971, 12.934520799666643, 12.52697304263711, 12.141658283770084, 11.776160806417465, 11.427133828401566, 11.09557219222188, 10.781816894188523, 10.48096746020019, 10.196409326046705, 9.923825917765498, 9.663545105606318, 9.41641714796424, 9.178005255758762, 8.951209722086787, 8.733864257112145, 8.52482633665204, 8.326172513887286, 8.13454657047987, 7.950117560103536, 7.7736115250736475, 7.603648129850626, 7.440859880298376, 7.283376282081008, 7.132244935259223, 6.986322654411197, 6.845677495002747, 6.709833886474371, 6.579748569056392, 6.452989287674427, 6.330991366878152, 6.213072234764695, 6.098867582157254, 5.988341363146901, 5.882135450839996]\n",
      "tensor([ 0.5178, -0.2741,  1.7925,  1.3540, -0.8386,  0.3138,  0.0993,  0.1772,\n",
      "        -0.3861,  0.7525, -2.1011,  0.2842, -2.1053, -0.4224, -0.1390,  1.0198,\n",
      "         3.2425, -0.6110, -0.8339, -0.1331,  3.1228,  0.2229, -0.4089, -0.7477,\n",
      "        -0.6634,  1.6664,  0.4000,  0.9831,  0.4083, -0.7102,  0.7528, -0.4564,\n",
      "        -0.1371, -1.2622,  0.3908,  1.0239,  0.5082, -0.9061, -0.0502,  0.1321,\n",
      "         1.9922, -0.1018, -0.3120,  0.4592,  0.0669,  0.8190,  1.6985, -0.5882,\n",
      "        -0.3238,  0.3310,  0.6301, -0.5183, -0.7158,  0.7459, -1.1434,  2.1035,\n",
      "         0.8534, -0.2876,  0.2706,  1.3255,  0.2885,  0.0592,  0.3374,  0.9808,\n",
      "         1.2320, -0.2981, -0.6700,  0.7489,  2.0079,  0.8556,  0.8698, -1.2359,\n",
      "        -1.2145,  0.0535, -0.2787,  1.2137, -0.8342,  0.2229, -1.2177, -0.1537,\n",
      "        -2.1002,  1.1656,  1.0747, -0.2241,  0.4832,  1.1775, -1.8954, -0.8327,\n",
      "        -0.0145, -0.8603, -0.1181, -0.6796,  0.8120, -0.0499,  0.7058,  1.7597,\n",
      "         0.3942, -0.3330,  1.7201,  0.8804], grad_fn=<SelectBackward0>)\n"
     ]
    }
   ],
   "source": [
    "losses = []\n",
    "loss_function = nn.NLLLoss()\n",
    "model = CBOW(vocab_size, 100)\n",
    "optimizer = optim.SGD(model.parameters(), lr=0.001)\n",
    "\n",
    "for epoch in range(100):\n",
    "    total_loss = 0\n",
    "    for context, target in data:\n",
    "\n",
    "        # Step 1. Prepare the inputs to be passed to the model (i.e, turn the words\n",
    "        # into integer indices and wrap them in tensors)\n",
    "        context_idxs = make_context_vector(context, word_to_ix)\n",
    "\n",
    "        # Step 2. Recall that torch *accumulates* gradients. Before passing in a\n",
    "        # new instance, you need to zero out the gradients from the old\n",
    "        # instance\n",
    "        model.zero_grad()\n",
    "\n",
    "        # Step 3. Run the forward pass, getting log probabilities over next\n",
    "        # words\n",
    "        log_probs = model(context_idxs)\n",
    "\n",
    "        # Step 4. Compute your loss function. (Again, Torch wants the target\n",
    "        # word wrapped in a tensor)\n",
    "        loss = loss_function(log_probs, torch.tensor([word_to_ix[target]], dtype=torch.long))\n",
    "\n",
    "        # Step 5. Do the backward pass and update the gradient\n",
    "        loss.backward()\n",
    "        optimizer.step()\n",
    "\n",
    "        # Get the Python number from a 1-element Tensor by calling tensor.item()\n",
    "        total_loss += loss.item()\n",
    "    losses.append(total_loss)\n",
    "print(losses)  # The loss decreased every iteration over the training data!\n",
    "\n",
    "print(model.embeddings.weight[word_to_ix[\"manipulate\"]])"
   ]
  },
  {
   "cell_type": "code",
   "execution_count": 212,
   "metadata": {},
   "outputs": [
    {
     "name": "stdout",
     "output_type": "stream",
     "text": [
      "abstract\n",
      "called\n"
     ]
    }
   ],
   "source": [
    "with torch.no_grad():\n",
    "    context = ['manipulate', 'other', 'things', 'called']# target is 'abstract'\n",
    "    context_vector = make_context_vector(context, word_to_ix)\n",
    "    predict = model(context_vector)\n",
    "    print(ix_to_word[predict.argmax(dim=1).item()])\n",
    "\n",
    "with torch.no_grad():\n",
    "    context = ['of','rules','a','program.']# target is 'abstract'\n",
    "    context_vector = make_context_vector(context, word_to_ix)\n",
    "    predict = model(context_vector)\n",
    "    print(ix_to_word[predict.argmax(dim=1).item()])"
   ]
  }
 ],
 "metadata": {
  "interpreter": {
   "hash": "916dbcbb3f70747c44a77c7bcd40155683ae19c65e1c03b4aa3499c5328201f1"
  },
  "kernelspec": {
   "display_name": "Python 3.8.10 64-bit",
   "language": "python",
   "name": "python3"
  },
  "language_info": {
   "codemirror_mode": {
    "name": "ipython",
    "version": 3
   },
   "file_extension": ".py",
   "mimetype": "text/x-python",
   "name": "python",
   "nbconvert_exporter": "python",
   "pygments_lexer": "ipython3",
   "version": "3.8.10"
  },
  "orig_nbformat": 4
 },
 "nbformat": 4,
 "nbformat_minor": 2
}
